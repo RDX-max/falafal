{**i am put
}} zaok whatever
 "cells": [
  {
   "cell_type": "code",
   "execution_count": 1,
   "metadata": {},
   "outputs": [],
   "source": [
    "#Inititalization and Importing Library\n",
    "import warnings\n",
    "warnings.filterwarnings('ignore')\n",
    "import pandas as pd\n",
    "import numpy as np\n",
    "import seaborn as sns\n",
    "import math\n",
    "from pandas.plotting import scatter_matrix\n",
    "from sklearn import model_selection\n",
    "from sklearn.model_selection import train_test_split\n",
    "import xgboost as xgb\n",
    "from sklearn.linear_model import LinearRegression\n",
    "from sklearn.neural_network import MLPRegressor\n",
    "from sklearn import preprocessing\n",
    "from sklearn.metrics import mean_absolute_error\n",
    "from sklearn.metrics import mean_squared_error\n",
    "from sklearn.metrics import r2_score\n",
    "from sklearn.model_selection import cross_val_score\n",
    "from sklearn.model_selection import cross_val_predict\n",
    "from sklearn.model_selection import ShuffleSplit\n",
    "from sklearn import preprocessing\n",
    "from sklearn import utils\n",
    "from sklearn.preprocessing import LabelEncoder\n",
    "from sklearn.tree import DecisionTreeClassifier\n",
    "from sklearn.model_selection import train_test_split\n",
    "from sklearn.metrics import confusion_matrix\n",
    "from sklearn.discriminant_analysis import LinearDiscriminantAnalysis\n",
    "import matplotlib.pyplot as plt\n",
    "%matplotlib inline"
   ]
  },
  {
   "cell_type": "code",
   "execution_count": 2,
   "metadata": {},
   "outputs": [],
   "source": [
    "cat_path = 'categories.csv'\n",
    "product_path = 'products.csv'\n",
    "transact_path = 'transactions.csv'\n",
    "\n",
    "### Parent category of products\n",
    "cat = pd.read_csv(cat_path)\n",
    "\n",
    "### Child category of products\n",
    "prod = pd.read_csv(product_path)\n",
    "\n",
    "### Transaction of products\n",
    "trans = pd.read_csv(transact_path)"
   ]
  },
  {
   "cell_type": "code",
   "execution_count": 195,
   "metadata": {},
   "outputs": [
    {
     "name": "stdout",
     "output_type": "stream",
     "text": [
      "(283, 2)\n",
      "(4900, 3)\n",
      "(103914, 3)\n"
     ]
    }
   ],
   "source": [
    "print(cat.shape)\n",
    "print(prod.shape)\n",
    "print(trans.shape)"
   ]
  },
  {
   "cell_type": "code",
   "execution_count": 196,
   "metadata": {},
   "outputs": [
    {
     "data": {
      "text/html": [
       "<div>\n",
       "<style scoped>\n",
       "    .dataframe tbody tr th:only-of-type {\n",
       "        vertical-align: middle;\n",
       "    }\n",
       "\n",
       "    .dataframe tbody tr th {\n",
       "        vertical-align: top;\n",
       "    }\n",
       "\n",
       "    .dataframe thead th {\n",
       "        text-align: right;\n",
       "    }\n",
       "</style>\n",
       "<table border=\"1\" class=\"dataframe\">\n",
       "  <thead>\n",
       "    <tr style=\"text-align: right;\">\n",
       "      <th></th>\n",
       "      <th>Category</th>\n",
       "      <th>Parent Category</th>\n",
       "    </tr>\n",
       "  </thead>\n",
       "  <tbody>\n",
       "    <tr>\n",
       "      <th>0</th>\n",
       "      <td>Car</td>\n",
       "      <td>Non-food</td>\n",
       "    </tr>\n",
       "    <tr>\n",
       "      <th>1</th>\n",
       "      <td>Cleaning</td>\n",
       "      <td>Non-food</td>\n",
       "    </tr>\n",
       "    <tr>\n",
       "      <th>2</th>\n",
       "      <td>Hygiene</td>\n",
       "      <td>Non-food</td>\n",
       "    </tr>\n",
       "    <tr>\n",
       "      <th>3</th>\n",
       "      <td>Hair Products</td>\n",
       "      <td>Non-food</td>\n",
       "    </tr>\n",
       "    <tr>\n",
       "      <th>4</th>\n",
       "      <td>Health Products</td>\n",
       "      <td>Non-food</td>\n",
       "    </tr>\n",
       "  </tbody>\n",
       "</table>\n",
       "</div>"
      ],
      "text/plain": [
       "          Category Parent Category\n",
       "0              Car        Non-food\n",
       "1         Cleaning        Non-food\n",
       "2          Hygiene        Non-food\n",
       "3    Hair Products        Non-food\n",
       "4  Health Products        Non-food"
      ]
     },
     "execution_count": 196,
     "metadata": {},
     "output_type": "execute_result"
    }
   ],
   "source": [
    "cat.head()"
   ]
  },
  {
   "cell_type": "code",
   "execution_count": 197,
   "metadata": {},
   "outputs": [
    {
     "data": {
      "text/html": [
       "<div>\n",
       "<style scoped>\n",
       "    .dataframe tbody tr th:only-of-type {\n",
       "        vertical-align: middle;\n",
       "    }\n",
       "\n",
       "    .dataframe tbody tr th {\n",
       "        vertical-align: top;\n",
       "    }\n",
       "\n",
       "    .dataframe thead th {\n",
       "        text-align: right;\n",
       "    }\n",
       "</style>\n",
       "<table border=\"1\" class=\"dataframe\">\n",
       "  <thead>\n",
       "    <tr style=\"text-align: right;\">\n",
       "      <th></th>\n",
       "      <th>Product ID</th>\n",
       "      <th>Price</th>\n",
       "      <th>Category</th>\n",
       "    </tr>\n",
       "  </thead>\n",
       "  <tbody>\n",
       "    <tr>\n",
       "      <th>0</th>\n",
       "      <td>P000001</td>\n",
       "      <td>6.4</td>\n",
       "      <td>Baby Food</td>\n",
       "    </tr>\n",
       "    <tr>\n",
       "      <th>1</th>\n",
       "      <td>P000002</td>\n",
       "      <td>4.3</td>\n",
       "      <td>Paper Towels</td>\n",
       "    </tr>\n",
       "    <tr>\n",
       "      <th>2</th>\n",
       "      <td>P000003</td>\n",
       "      <td>3.0</td>\n",
       "      <td>Peanut Butter</td>\n",
       "    </tr>\n",
       "    <tr>\n",
       "      <th>3</th>\n",
       "      <td>P000004</td>\n",
       "      <td>2.0</td>\n",
       "      <td>Fz Seafood</td>\n",
       "    </tr>\n",
       "    <tr>\n",
       "      <th>4</th>\n",
       "      <td>P000005</td>\n",
       "      <td>4.6</td>\n",
       "      <td>Cold/Allergy/Sinus Tablets</td>\n",
       "    </tr>\n",
       "  </tbody>\n",
       "</table>\n",
       "</div>"
      ],
      "text/plain": [
       "  Product ID  Price                    Category\n",
       "0    P000001    6.4                   Baby Food\n",
       "1    P000002    4.3                Paper Towels\n",
       "2    P000003    3.0               Peanut Butter\n",
       "3    P000004    2.0                  Fz Seafood\n",
       "4    P000005    4.6  Cold/Allergy/Sinus Tablets"
      ]
     },
     "execution_count": 197,
     "metadata": {},
     "output_type": "execute_result"
    }
   ],
   "source": [
    "prod.head()"
   ]
  },
  {
   "cell_type": "code",
   "execution_count": 198,
   "metadata": {},
   "outputs": [
    {
     "data": {
      "text/html": [
       "<div>\n",
       "<style scoped>\n",
       "    .dataframe tbody tr th:only-of-type {\n",
       "        vertical-align: middle;\n",
       "    }\n",
       "\n",
       "    .dataframe tbody tr th {\n",
       "        vertical-align: top;\n",
       "    }\n",
       "\n",
       "    .dataframe thead th {\n",
       "        text-align: right;\n",
       "    }\n",
       "</style>\n",
       "<table border=\"1\" class=\"dataframe\">\n",
       "  <thead>\n",
       "    <tr style=\"text-align: right;\">\n",
       "      <th></th>\n",
       "      <th>Transaction ID</th>\n",
       "      <th>Product ID</th>\n",
       "      <th>Quantity</th>\n",
       "    </tr>\n",
       "  </thead>\n",
       "  <tbody>\n",
       "    <tr>\n",
       "      <th>0</th>\n",
       "      <td>T000001</td>\n",
       "      <td>P002445</td>\n",
       "      <td>1</td>\n",
       "    </tr>\n",
       "    <tr>\n",
       "      <th>1</th>\n",
       "      <td>T000001</td>\n",
       "      <td>P001198</td>\n",
       "      <td>1</td>\n",
       "    </tr>\n",
       "    <tr>\n",
       "      <th>2</th>\n",
       "      <td>T000001</td>\n",
       "      <td>P003755</td>\n",
       "      <td>3</td>\n",
       "    </tr>\n",
       "    <tr>\n",
       "      <th>3</th>\n",
       "      <td>T000002</td>\n",
       "      <td>P003171</td>\n",
       "      <td>3</td>\n",
       "    </tr>\n",
       "    <tr>\n",
       "      <th>4</th>\n",
       "      <td>T000002</td>\n",
       "      <td>P004013</td>\n",
       "      <td>1</td>\n",
       "    </tr>\n",
       "  </tbody>\n",
       "</table>\n",
       "</div>"
      ],
      "text/plain": [
       "  Transaction ID Product ID  Quantity\n",
       "0        T000001    P002445         1\n",
       "1        T000001    P001198         1\n",
       "2        T000001    P003755         3\n",
       "3        T000002    P003171         3\n",
       "4        T000002    P004013         1"
      ]
     },
     "execution_count": 198,
     "metadata": {},
     "output_type": "execute_result"
    }
   ],
   "source": [
    "trans.head()"
   ]
  },
  {
   "cell_type": "code",
   "execution_count": 199,
   "metadata": {},
   "outputs": [
    {
     "name": "stdout",
     "output_type": "stream",
     "text": [
      "<class 'pandas.core.frame.DataFrame'>\n",
      "RangeIndex: 283 entries, 0 to 282\n",
      "Data columns (total 2 columns):\n",
      " #   Column           Non-Null Count  Dtype \n",
      "---  ------           --------------  ----- \n",
      " 0   Category         283 non-null    object\n",
      " 1   Parent Category  283 non-null    object\n",
      "dtypes: object(2)\n",
      "memory usage: 4.5+ KB\n",
      "None\n",
      "**********************************\n",
      "<class 'pandas.core.frame.DataFrame'>\n",
      "RangeIndex: 4900 entries, 0 to 4899\n",
      "Data columns (total 3 columns):\n",
      " #   Column      Non-Null Count  Dtype  \n",
      "---  ------      --------------  -----  \n",
      " 0   Product ID  4900 non-null   object \n",
      " 1   Price       4900 non-null   float64\n",
      " 2   Category    4900 non-null   object \n",
      "dtypes: float64(1), object(2)\n",
      "memory usage: 115.0+ KB\n",
      "None\n",
      "**********************************\n",
      "<class 'pandas.core.frame.DataFrame'>\n",
      "RangeIndex: 103914 entries, 0 to 103913\n",
      "Data columns (total 3 columns):\n",
      " #   Column          Non-Null Count   Dtype \n",
      "---  ------          --------------   ----- \n",
      " 0   Transaction ID  103914 non-null  object\n",
      " 1   Product ID      103914 non-null  object\n",
      " 2   Quantity        103914 non-null  int64 \n",
      "dtypes: int64(1), object(2)\n",
      "memory usage: 2.4+ MB\n",
      "None\n"
     ]
    }
   ],
   "source": [
    "print(cat.info())\n",
    "print(\"**********************************\")\n",
    "print(prod.info())\n",
    "print(\"**********************************\")\n",
    "print(trans.info())"
   ]
  },
  {
   "cell_type": "code",
   "execution_count": 200,
   "metadata": {},
   "outputs": [
    {
     "data": {
      "text/plain": [
       "Transaction ID    0\n",
       "Product ID        0\n",
       "Quantity          0\n",
       "dtype: int64"
      ]
     },
     "execution_count": 200,
     "metadata": {},
     "output_type": "execute_result"
    }
   ],
   "source": [
    "### No null in any of the input files\n",
    "trans.isnull().sum()"
   ]
  },
  {
   "cell_type": "code",
   "execution_count": 201,
   "metadata": {},
   "outputs": [
    {
     "data": {
      "text/html": [
       "<div>\n",
       "<style scoped>\n",
       "    .dataframe tbody tr th:only-of-type {\n",
       "        vertical-align: middle;\n",
       "    }\n",
       "\n",
       "    .dataframe tbody tr th {\n",
       "        vertical-align: top;\n",
       "    }\n",
       "\n",
       "    .dataframe thead th {\n",
       "        text-align: right;\n",
       "    }\n",
       "</style>\n",
       "<table border=\"1\" class=\"dataframe\">\n",
       "  <thead>\n",
       "    <tr style=\"text-align: right;\">\n",
       "      <th></th>\n",
       "      <th>Category</th>\n",
       "      <th>Parent Category</th>\n",
       "    </tr>\n",
       "  </thead>\n",
       "  <tbody>\n",
       "    <tr>\n",
       "      <th>count</th>\n",
       "      <td>283</td>\n",
       "      <td>283</td>\n",
       "    </tr>\n",
       "    <tr>\n",
       "      <th>unique</th>\n",
       "      <td>283</td>\n",
       "      <td>41</td>\n",
       "    </tr>\n",
       "    <tr>\n",
       "      <th>top</th>\n",
       "      <td>Anti-Smoking Products</td>\n",
       "      <td>Non-food</td>\n",
       "    </tr>\n",
       "    <tr>\n",
       "      <th>freq</th>\n",
       "      <td>1</td>\n",
       "      <td>25</td>\n",
       "    </tr>\n",
       "  </tbody>\n",
       "</table>\n",
       "</div>"
      ],
      "text/plain": [
       "                     Category Parent Category\n",
       "count                     283             283\n",
       "unique                    283              41\n",
       "top     Anti-Smoking Products        Non-food\n",
       "freq                        1              25"
      ]
     },
     "execution_count": 201,
     "metadata": {},
     "output_type": "execute_result"
    }
   ],
   "source": [
    "cat.describe()"
   ]
  },
  {
   "cell_type": "code",
   "execution_count": 202,
   "metadata": {},
   "outputs": [
    {
     "data": {
      "text/html": [
       "<div>\n",
       "<style scoped>\n",
       "    .dataframe tbody tr th:only-of-type {\n",
       "        vertical-align: middle;\n",
       "    }\n",
       "\n",
       "    .dataframe tbody tr th {\n",
       "        vertical-align: top;\n",
       "    }\n",
       "\n",
       "    .dataframe thead th {\n",
       "        text-align: right;\n",
       "    }\n",
       "</style>\n",
       "<table border=\"1\" class=\"dataframe\">\n",
       "  <thead>\n",
       "    <tr style=\"text-align: right;\">\n",
       "      <th></th>\n",
       "      <th>Price</th>\n",
       "    </tr>\n",
       "  </thead>\n",
       "  <tbody>\n",
       "    <tr>\n",
       "      <th>count</th>\n",
       "      <td>4900.000000</td>\n",
       "    </tr>\n",
       "    <tr>\n",
       "      <th>mean</th>\n",
       "      <td>3.807429</td>\n",
       "    </tr>\n",
       "    <tr>\n",
       "      <th>std</th>\n",
       "      <td>1.370312</td>\n",
       "    </tr>\n",
       "    <tr>\n",
       "      <th>min</th>\n",
       "      <td>1.050000</td>\n",
       "    </tr>\n",
       "    <tr>\n",
       "      <th>25%</th>\n",
       "      <td>2.700000</td>\n",
       "    </tr>\n",
       "    <tr>\n",
       "      <th>50%</th>\n",
       "      <td>3.750000</td>\n",
       "    </tr>\n",
       "    <tr>\n",
       "      <th>75%</th>\n",
       "      <td>4.900000</td>\n",
       "    </tr>\n",
       "    <tr>\n",
       "      <th>max</th>\n",
       "      <td>6.450000</td>\n",
       "    </tr>\n",
       "  </tbody>\n",
       "</table>\n",
       "</div>"
      ],
      "text/plain": [
       "             Price\n",
       "count  4900.000000\n",
       "mean      3.807429\n",
       "std       1.370312\n",
       "min       1.050000\n",
       "25%       2.700000\n",
       "50%       3.750000\n",
       "75%       4.900000\n",
       "max       6.450000"
      ]
     },
     "execution_count": 202,
     "metadata": {},
     "output_type": "execute_result"
    }
   ],
   "source": [
    "prod.describe()"
   ]
  },
  {
   "cell_type": "code",
   "execution_count": 203,
   "metadata": {},
   "outputs": [
    {
     "data": {
      "text/html": [
       "<div>\n",
       "<style scoped>\n",
       "    .dataframe tbody tr th:only-of-type {\n",
       "        vertical-align: middle;\n",
       "    }\n",
       "\n",
       "    .dataframe tbody tr th {\n",
       "        vertical-align: top;\n",
       "    }\n",
       "\n",
       "    .dataframe thead th {\n",
       "        text-align: right;\n",
       "    }\n",
       "</style>\n",
       "<table border=\"1\" class=\"dataframe\">\n",
       "  <thead>\n",
       "    <tr style=\"text-align: right;\">\n",
       "      <th></th>\n",
       "      <th>Quantity</th>\n",
       "    </tr>\n",
       "  </thead>\n",
       "  <tbody>\n",
       "    <tr>\n",
       "      <th>count</th>\n",
       "      <td>103914.000000</td>\n",
       "    </tr>\n",
       "    <tr>\n",
       "      <th>mean</th>\n",
       "      <td>2.000327</td>\n",
       "    </tr>\n",
       "    <tr>\n",
       "      <th>std</th>\n",
       "      <td>1.415091</td>\n",
       "    </tr>\n",
       "    <tr>\n",
       "      <th>min</th>\n",
       "      <td>1.000000</td>\n",
       "    </tr>\n",
       "    <tr>\n",
       "      <th>25%</th>\n",
       "      <td>1.000000</td>\n",
       "    </tr>\n",
       "    <tr>\n",
       "      <th>50%</th>\n",
       "      <td>1.000000</td>\n",
       "    </tr>\n",
       "    <tr>\n",
       "      <th>75%</th>\n",
       "      <td>3.000000</td>\n",
       "    </tr>\n",
       "    <tr>\n",
       "      <th>max</th>\n",
       "      <td>5.000000</td>\n",
       "    </tr>\n",
       "  </tbody>\n",
       "</table>\n",
       "</div>"
      ],
      "text/plain": [
       "            Quantity\n",
       "count  103914.000000\n",
       "mean        2.000327\n",
       "std         1.415091\n",
       "min         1.000000\n",
       "25%         1.000000\n",
       "50%         1.000000\n",
       "75%         3.000000\n",
       "max         5.000000"
      ]
     },
     "execution_count": 203,
     "metadata": {},
     "output_type": "execute_result"
    }
   ],
   "source": [
    "trans.describe()"
   ]
  },
  {
   "cell_type": "code",
   "execution_count": 204,
   "metadata": {},
   "outputs": [
    {
     "name": "stdout",
     "output_type": "stream",
     "text": [
      "Category           283\n",
      "Parent Category     41\n",
      "dtype: int64\n"
     ]
    }
   ],
   "source": [
    "### Total number of unique values in cat\n",
    "print(cat.nunique())"
   ]
  },
  {
   "cell_type": "code",
   "execution_count": 205,
   "metadata": {},
   "outputs": [
    {
     "name": "stdout",
     "output_type": "stream",
     "text": [
      "Product ID    4900\n",
      "Price          109\n",
      "Category       245\n",
      "dtype: int64\n"
     ]
    }
   ],
   "source": [
    "### Total number of unique values in prod\n",
    "print(prod.nunique())"
   ]
  },
  {
   "cell_type": "code",
   "execution_count": 206,
   "metadata": {},
   "outputs": [
    {
     "name": "stdout",
     "output_type": "stream",
     "text": [
      "Transaction ID    10000\n",
      "Product ID         4900\n",
      "Quantity              5\n",
      "dtype: int64\n"
     ]
    }
   ],
   "source": [
    "### Total number of unique values in trans\n",
    "print(trans.nunique())"
   ]
  },
  {
   "cell_type": "markdown",
   "metadata": {},
   "source": [
    "### Comment: \n",
    "\n",
    "### Number of Parent categories = 41\n",
    "### Number of sub-categories = 283\n",
    "### Number of Product ID= 4900\n",
    "### Number of \n",
    "\n",
    "### Note: Number of unique product ID in trans = 4900 = Number of unique produc ID in prod. So, all prod have been sold at least once and there is no mismatch in the collected data. \n",
    "\n",
    "### Unique Transaction ID = 10000. These are probably 10000 users."
   ]
  },
  {
   "cell_type": "code",
   "execution_count": 23,
   "metadata": {},
   "outputs": [
    {
     "name": "stdout",
     "output_type": "stream",
     "text": [
      "                            No. of Products per category   average\n",
      "Category                                                          \n",
      "Adult Incontinence                                    33  3.506061\n",
      "All Other Breakfast Food                              18  4.508333\n",
      "All Other Sauces                                      13  3.923077\n",
      "All Other Tobacco Products                            21  3.492857\n",
      "Anti-Smoking Products                                 12  3.425000\n",
      "...                                                  ...       ...\n",
      "Water Filters/Devices                                 32  3.373437\n",
      "Water Softeners/Treatment                             19  2.728947\n",
      "Wine                                                  16  3.365625\n",
      "Writing Instruments                                   16  3.090625\n",
      "Yogurt                                                24  3.875000\n",
      "\n",
      "[245 rows x 2 columns]\n",
      "Category            Product ID\n",
      "Adult Incontinence  P000311       2.35\n",
      "                    P000397       3.20\n",
      "                    P000414       1.90\n",
      "                    P000478       2.25\n",
      "                    P000607       5.15\n",
      "                                  ... \n",
      "Yogurt              P003427       6.30\n",
      "                    P003502       4.80\n",
      "                    P004104       3.65\n",
      "                    P004367       2.70\n",
      "                    P004814       6.25\n",
      "Name: Price, Length: 4900, dtype: float64\n"
     ]
    }
   ],
   "source": [
    "# print(f\"Average price per product is:{prod[\"Price\"].mean()}\")\n",
    "#print(prod[''].groupby(['']).agg(['mean', 'count']))\n",
    "print(prod.groupby([\"Category\"]).count().sort_values([\"Product ID\"], ascending=False).rename(columns={\"Product ID\" : \"No. of products\"}).reset_index())\n"
   ]
  },
  {
   "cell_type": "code",
   "execution_count": null,
   "metadata": {},
   "outputs": [],
   "source": []
  },
  {
   "cell_type": "code",
   "execution_count": 208,
   "metadata": {},
   "outputs": [
    {
     "data": {
      "text/html": [
       "<div>\n",
       "<style scoped>\n",
       "    .dataframe tbody tr th:only-of-type {\n",
       "        vertical-align: middle;\n",
       "    }\n",
       "\n",
       "    .dataframe tbody tr th {\n",
       "        vertical-align: top;\n",
       "    }\n",
       "\n",
       "    .dataframe thead th {\n",
       "        text-align: right;\n",
       "    }\n",
       "</style>\n",
       "<table border=\"1\" class=\"dataframe\">\n",
       "  <thead>\n",
       "    <tr style=\"text-align: right;\">\n",
       "      <th></th>\n",
       "      <th>Transaction ID</th>\n",
       "      <th>Product ID</th>\n",
       "      <th>Quantity</th>\n",
       "    </tr>\n",
       "  </thead>\n",
       "  <tbody>\n",
       "    <tr>\n",
       "      <th>0</th>\n",
       "      <td>T000001</td>\n",
       "      <td>P002445</td>\n",
       "      <td>1</td>\n",
       "    </tr>\n",
       "    <tr>\n",
       "      <th>1</th>\n",
       "      <td>T000001</td>\n",
       "      <td>P001198</td>\n",
       "      <td>1</td>\n",
       "    </tr>\n",
       "    <tr>\n",
       "      <th>2</th>\n",
       "      <td>T000001</td>\n",
       "      <td>P003755</td>\n",
       "      <td>3</td>\n",
       "    </tr>\n",
       "    <tr>\n",
       "      <th>3</th>\n",
       "      <td>T000002</td>\n",
       "      <td>P003171</td>\n",
       "      <td>3</td>\n",
       "    </tr>\n",
       "    <tr>\n",
       "      <th>4</th>\n",
       "      <td>T000002</td>\n",
       "      <td>P004013</td>\n",
       "      <td>1</td>\n",
       "    </tr>\n",
       "  </tbody>\n",
       "</table>\n",
       "</div>"
      ],
      "text/plain": [
       "  Transaction ID Product ID  Quantity\n",
       "0        T000001    P002445         1\n",
       "1        T000001    P001198         1\n",
       "2        T000001    P003755         3\n",
       "3        T000002    P003171         3\n",
       "4        T000002    P004013         1"
      ]
     },
     "execution_count": 208,
     "metadata": {},
     "output_type": "execute_result"
    }
   ],
   "source": [
    "trans.head()"
   ]
  },
  {
   "cell_type": "code",
   "execution_count": 210,
   "metadata": {},
   "outputs": [],
   "source": [
    "# cost*trans.loc[el,'Quantity']"
   ]
  },
  {
   "cell_type": "code",
   "execution_count": 211,
   "metadata": {},
   "outputs": [],
   "source": [
    "# trans['Price'] = [prod[\"Price\"].array[prod[\"Product ID\"] == trans.loc[el, \"Product ID\"]] for el in trans.index]"
   ]
  },
  {
   "cell_type": "code",
   "execution_count": 212,
   "metadata": {},
   "outputs": [],
   "source": [
    "# trans.head()"
   ]
  },
  {
   "cell_type": "code",
   "execution_count": 213,
   "metadata": {},
   "outputs": [],
   "source": [
    "# trans.info()"
   ]
  },
  {
   "cell_type": "code",
   "execution_count": 217,
   "metadata": {},
   "outputs": [],
   "source": [
    "prdict=dict(zip(prod['Product ID'],prod['Price']))\n",
    "trans['Price'] = [prdict[trans.loc[el, \"Product ID\"]] for el in trans.index]"
   ]
  },
  {
   "cell_type": "code",
   "execution_count": 218,
   "metadata": {},
   "outputs": [
    {
     "data": {
      "text/html": [
       "<div>\n",
       "<style scoped>\n",
       "    .dataframe tbody tr th:only-of-type {\n",
       "        vertical-align: middle;\n",
       "    }\n",
       "\n",
       "    .dataframe tbody tr th {\n",
       "        vertical-align: top;\n",
       "    }\n",
       "\n",
       "    .dataframe thead th {\n",
       "        text-align: right;\n",
       "    }\n",
       "</style>\n",
       "<table border=\"1\" class=\"dataframe\">\n",
       "  <thead>\n",
       "    <tr style=\"text-align: right;\">\n",
       "      <th></th>\n",
       "      <th>Transaction ID</th>\n",
       "      <th>Product ID</th>\n",
       "      <th>Quantity</th>\n",
       "      <th>Price</th>\n",
       "    </tr>\n",
       "  </thead>\n",
       "  <tbody>\n",
       "    <tr>\n",
       "      <th>0</th>\n",
       "      <td>T000001</td>\n",
       "      <td>P002445</td>\n",
       "      <td>1</td>\n",
       "      <td>2.75</td>\n",
       "    </tr>\n",
       "    <tr>\n",
       "      <th>1</th>\n",
       "      <td>T000001</td>\n",
       "      <td>P001198</td>\n",
       "      <td>1</td>\n",
       "      <td>2.40</td>\n",
       "    </tr>\n",
       "    <tr>\n",
       "      <th>2</th>\n",
       "      <td>T000001</td>\n",
       "      <td>P003755</td>\n",
       "      <td>3</td>\n",
       "      <td>6.40</td>\n",
       "    </tr>\n",
       "    <tr>\n",
       "      <th>3</th>\n",
       "      <td>T000002</td>\n",
       "      <td>P003171</td>\n",
       "      <td>3</td>\n",
       "      <td>1.30</td>\n",
       "    </tr>\n",
       "    <tr>\n",
       "      <th>4</th>\n",
       "      <td>T000002</td>\n",
       "      <td>P004013</td>\n",
       "      <td>1</td>\n",
       "      <td>2.35</td>\n",
       "    </tr>\n",
       "  </tbody>\n",
       "</table>\n",
       "</div>"
      ],
      "text/plain": [
       "  Transaction ID Product ID  Quantity  Price\n",
       "0        T000001    P002445         1   2.75\n",
       "1        T000001    P001198         1   2.40\n",
       "2        T000001    P003755         3   6.40\n",
       "3        T000002    P003171         3   1.30\n",
       "4        T000002    P004013         1   2.35"
      ]
     },
     "execution_count": 218,
     "metadata": {},
     "output_type": "execute_result"
    }
   ],
   "source": [
    "trans.head()"
   ]
  },
  {
   "cell_type": "code",
   "execution_count": 222,
   "metadata": {},
   "outputs": [],
   "source": [
    "trans['Revenue'] = trans['Quantity']*trans['Price']"
   ]
  },
  {
   "cell_type": "code",
   "execution_count": 223,
   "metadata": {},
   "outputs": [
    {
     "data": {
      "text/html": [
       "<div>\n",
       "<style scoped>\n",
       "    .dataframe tbody tr th:only-of-type {\n",
       "        vertical-align: middle;\n",
       "    }\n",
       "\n",
       "    .dataframe tbody tr th {\n",
       "        vertical-align: top;\n",
       "    }\n",
       "\n",
       "    .dataframe thead th {\n",
       "        text-align: right;\n",
       "    }\n",
       "</style>\n",
       "<table border=\"1\" class=\"dataframe\">\n",
       "  <thead>\n",
       "    <tr style=\"text-align: right;\">\n",
       "      <th></th>\n",
       "      <th>Transaction ID</th>\n",
       "      <th>Product ID</th>\n",
       "      <th>Quantity</th>\n",
       "      <th>Price</th>\n",
       "      <th>Revenue</th>\n",
       "    </tr>\n",
       "  </thead>\n",
       "  <tbody>\n",
       "    <tr>\n",
       "      <th>0</th>\n",
       "      <td>T000001</td>\n",
       "      <td>P002445</td>\n",
       "      <td>1</td>\n",
       "      <td>2.75</td>\n",
       "      <td>2.75</td>\n",
       "    </tr>\n",
       "    <tr>\n",
       "      <th>1</th>\n",
       "      <td>T000001</td>\n",
       "      <td>P001198</td>\n",
       "      <td>1</td>\n",
       "      <td>2.40</td>\n",
       "      <td>2.40</td>\n",
       "    </tr>\n",
       "    <tr>\n",
       "      <th>2</th>\n",
       "      <td>T000001</td>\n",
       "      <td>P003755</td>\n",
       "      <td>3</td>\n",
       "      <td>6.40</td>\n",
       "      <td>19.20</td>\n",
       "    </tr>\n",
       "    <tr>\n",
       "      <th>3</th>\n",
       "      <td>T000002</td>\n",
       "      <td>P003171</td>\n",
       "      <td>3</td>\n",
       "      <td>1.30</td>\n",
       "      <td>3.90</td>\n",
       "    </tr>\n",
       "    <tr>\n",
       "      <th>4</th>\n",
       "      <td>T000002</td>\n",
       "      <td>P004013</td>\n",
       "      <td>1</td>\n",
       "      <td>2.35</td>\n",
       "      <td>2.35</td>\n",
       "    </tr>\n",
       "  </tbody>\n",
       "</table>\n",
       "</div>"
      ],
      "text/plain": [
       "  Transaction ID Product ID  Quantity  Price  Revenue\n",
       "0        T000001    P002445         1   2.75     2.75\n",
       "1        T000001    P001198         1   2.40     2.40\n",
       "2        T000001    P003755         3   6.40    19.20\n",
       "3        T000002    P003171         3   1.30     3.90\n",
       "4        T000002    P004013         1   2.35     2.35"
      ]
     },
     "execution_count": 223,
     "metadata": {},
     "output_type": "execute_result"
    }
   ],
   "source": [
    "trans.head()"
   ]
  },
  {
   "cell_type": "code",
   "execution_count": 224,
   "metadata": {},
   "outputs": [
    {
     "name": "stdout",
     "output_type": "stream",
     "text": [
      "7.623575745327916\n"
     ]
    }
   ],
   "source": [
    "print(trans[\"Revenue\"].mean())"
   ]
  },
  {
   "cell_type": "code",
   "execution_count": 227,
   "metadata": {},
   "outputs": [
    {
     "name": "stdout",
     "output_type": "stream",
     "text": [
      "Total value of transaction: 792196.25\n"
     ]
    }
   ],
   "source": [
    "print(\"Total value of transaction:\", trans[\"Revenue\"].sum())"
   ]
  },
  {
   "cell_type": "code",
   "execution_count": 27,
   "metadata": {},
   "outputs": [
    {
     "name": "stdout",
     "output_type": "stream",
     "text": [
      "['Food & Trash Bags', 'Cups & Plates', 'Disposable Tableware', 'Kitchen Storage', 'Light Bulbs', 'Pest Control', 'Firelog/Firestarter/Firewood', 'Lighters', 'Furniture Polish', 'Water Softeners/Treatment', 'Charcoal Lighter Fluids', 'Water Filters/Devices', 'Family Planning', 'Asian Foods', 'Baby Foods', 'Mexican Foods', 'Beer/Ale/Alcoholic Cider', 'Wine', 'Cocktail Mixes', 'Spirits/Liquor', 'Premixed Cocktails/Coolers', 'Bottled Water', 'Bottled Juices', 'Ice Cream/Sherbet', 'Ice Cream Cones/Mixes', 'Fz Pizza', 'Fz Novelties', 'Fz Dinners/Entrees', 'Fz Seafood', 'Fz Plain Vegetables', 'Fz Breakfast Food', 'Fz Meat', 'Fz Potatoes/Onions', 'Fz Appetizers/Snack Rolls', 'Fz Bread/Fz Dough', 'Fz Desserts/Topping', 'Fz Pies', 'Fz Fruit', 'Fz Prepared Vegetables', 'Fz Pasta', 'Fz Pot Pies', 'Fz Side Dishes', 'Fz Corn On The Cob', 'Other Frozen Foods', 'Juices – Frozen', 'Fz/Rfg Poultry', 'Processed Fz/Rfg Poultry', 'Rfg Fresh Eggs', 'Rfg Salad/Coleslaw', 'Rfg Juices/Drinks', 'Rfg Side Dishes', 'Rfg Meat', 'Rfg Entrees', 'Rfg Whipped Toppings', 'Rfg Dips', 'Rfg Teas/Coffee', 'Other Rfg Products', 'Rfg Tortlla/Eggrll/Wontn Wrap', 'Rfg Ham', 'Dough/Biscuit Dough – Rfg', 'Lunches – Rfg', 'Desserts -Rfg', 'Spreads – Rfg', 'Seafood – Rfg', 'Baked Goods – Rfg', 'Salad Dressing – Rfg', 'Pizza – Rfg', 'Pasta – Rfg', 'Pickles/Relish – Rfg', 'Ss Dinners', 'Ss Meat', 'Seafood – Ss', 'Canned Juices – Ss', 'Salad Dressings – Ss', 'Dip/Dip Mixes – Ss/Candles', 'Yogurt', 'Milk', 'Sour Cream', 'Evaporated/Condensed Milk', 'Margarine/Spreads/Butter Blen', 'Other Butters', 'Natural Cheese', 'Processed Cheese', 'Cream Cheese/Cr Chs Spread', 'Cottage Cheese', 'Dog Food', 'Cat Food', 'Pet Supplies', 'Cat/Dog Litter', 'Total Chocolate Candy', 'Snack Bars/Granola Bars', 'Snack Nuts/Seeds/Corn Nuts', 'Bakery Snacks', 'Dry Fruit Snacks', 'Misc. Snacks', 'Dried Meat Snacks', 'Dried Fruit', 'Total Non-Chocolate Candy', 'Gum', 'Marshmallows', 'Salty Snacks', 'Cakes & Cookies', 'Luncheon Meats', 'Breakfast Meats', 'Dinner Sausage', 'Frankfurters', 'Pies & Cakes', 'Rice/Popcorn Cakes', 'Cheesecakes', 'Cookies', 'English Muffins', 'Carbonated Beverages', 'Sports Drinks', 'Non-Fruit Drinks', 'Energy Drinks', 'Aseptic Juices', 'Drink Mixes', 'Fresh Bread & Rolls', 'Other Breads', 'Toaster Pastries/Tarts', 'Crackers', 'Pastry/Doughnuts', 'Baby Formula/Electrolytes', 'Baby Food', 'Automobile Fluids/Antifreeze', 'Motor Oil', 'Office Products', 'Writing Instruments', 'Childrens Art Supplies', 'Pantyhose/Nylons', 'Socks', 'Gloves', 'Eye/Contact Lens Care Product', 'Suntan Products', 'Cosmetics – Eye', 'Cosmetics – Nail', 'Cosmetics – Lip', 'Fragrances – Women’s', 'Deodorant', 'Toilet Tissue', 'Paper Towels', 'Paper Napkins', 'Moist Towelettes', 'Facial Tissue', 'Diapers', 'Adult Incontinence', 'Feminine Needs', 'Baby Accessories', 'Baby Needs', 'Sanitary Napkins/Tampons', 'Household Cleaner', 'Laundry Detergent', 'Bleach', 'Laundry Care', 'Sponges & Scouring Pads', 'Rug/Upholstery/Fabric Treatmt', 'Fabric Softener Sheets', 'Household Cleaner Cloths', 'Floor Cleaners/Wax Removers', 'Dish Detergent', 'Cleaning Tools/Mops/Brooms', 'Soap', 'Toothpaste', 'Mouthwash', 'Hand & Body Lotion', 'Shaving Cream', 'Denture Products', 'Cotton Balls/Swabs', 'Shaving Lotion/Mens Fragrance', 'Razors', 'Shampoo', 'Toothbrush/Dental Accesories', 'Hair Conditioner', 'Hair Coloring', 'Hair Styling Gel/Mousse', 'Hair Spray/Spritz', 'Hair Accessories', 'Contraceptives', 'Misc Health Remedies', 'First Aid Treatment', 'First Aid Accessories', 'Cold/Allergy/Sinus Liquids', 'Cough Drops', 'Foot Care Products', 'Cosmetics – Facial', 'Nasal Products', 'Cough Syrup', 'Sleeping Remedies', 'Cold/Allergy/Sinus Tablets', 'Vitamins', 'Gastrointestinal – Tablets', 'Soup', 'Croutons', 'Dry Packaged Dinners', 'Dry Beans/Vegetables', 'Canned/Bottled Fruit', 'Rice', 'Pickles/Relish/Olives', 'Shortening & Oil', 'Vinegar', 'Cigarettes', 'Smokeless Tobacco', 'Cigars', 'Anti-Smoking Products', 'All Other Tobacco Products', 'Coffee', 'Creams/Creamers', 'Coffee Creamer', 'Tea – Instant Tea Mixes', 'Tea/Coffee Ready-To-Drink', 'Coffee Filters', 'Milk Flavoring/Cocoa Mixes', 'Tea – Bags/Loose', 'Vegetables', 'Fruits', 'Spices/Seasonings', 'Gravy/Sauce Mixes', 'Steak/Worcestershire Sauce', 'Pancake Mixes', 'Stuffing Mixes', 'Mayonnaise', 'Mustard & Ketchup', 'Mexican Sauce', 'All Other Sauces', 'Barbeque Sauce', 'Pasta', 'Spaghetti/Italian Sauce', 'Pizza Products', 'Tomato Products', 'Baking Needs', 'Sugar', 'Baking Mixes', 'Frosting', 'Breadcrumbs/Batters', 'Salad Toppings', 'Dessert Toppings', 'Baking Cups/Paper', 'Flour/Meal', 'Baking Nuts', 'Gelatin/Pudding Prd And Mixes', 'Sugar Substitutes', 'Peanut Butter', 'Jellies/Jams/Honey', 'Specialty Nut Butter', 'All Other Breakfast Food', 'Cold Cereal', 'Hot Cereal']\n"
     ]
    }
   ],
   "source": [
    "import re\n",
    "j = print(cat.loc[cat.Category.str.contains('|'.join(prod.Category)),'Category'].tolist())\n",
    "k = print(pro.loc[cat.Category.str.contains('|'.join(prod.Category)),'Category'].tolist())"
   ]
  },
  {
   "cell_type": "code",
   "execution_count": null,
   "metadata": {},
   "outputs": [],
   "source": []
  }
 ],
 "metadata": {
  "kernelspec": {
   "display_name": "Python 3",
   "language": "python",
   "name": "python3"
  },
  "language_info": {
   "codemirror_mode": {
    "name": "ipython",
    "version": 3
   },
   "file_extension": ".py",
   "mimetype": "text/x-python",
   "name": "python",
   "nbconvert_exporter": "python",
   "pygments_lexer": "ipython3",
   "version": "3.7.6"
  }
 },
 "nbformat": 4,
 "nbformat_minor": 4
}
